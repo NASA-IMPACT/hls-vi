{
 "cells": [
  {
   "cell_type": "code",
   "execution_count": 1,
   "id": "08b91502",
   "metadata": {},
   "outputs": [],
   "source": [
    "import rasterio\n",
    "from rasterio.merge import merge\n",
    "from rasterio.plot import show\n",
    "import numpy as np"
   ]
  },
  {
   "cell_type": "code",
   "execution_count": 2,
   "id": "4a3e5bc4",
   "metadata": {},
   "outputs": [],
   "source": [
    "# Construct S3 key for accessing data within S3 bucket\n",
    "bucket = \"s3://hls-debug-output\"\n",
    "run_id = \"brad_test_samples\"\n",
    "hls_granule_id = \"HLS.L30.T22JBQ.2024055T133022.v2.0\"\n",
    "sr_key = f\"{bucket}/{run_id}/{hls_granule_id}/{hls_granule_id}\"\n",
    "sat_id = hls_granule_id.split(\".\")[1]"
   ]
  },
  {
   "cell_type": "code",
   "execution_count": 3,
   "id": "771c1a5b",
   "metadata": {},
   "outputs": [],
   "source": [
    "# Open raster file and apply scaling and masking\n",
    "def open_file(base, band):\n",
    "    print(f\"Reading {base}.{band}.tif\")\n",
    "    with rasterio.open(f\"{base}.{band}.tif\") as src:\n",
    "        data = src.read(1, masked=True)  # Read the raster data, masking nodata values\n",
    "        metadata = src.meta  # Get the metadata attributes\n",
    "    return data, metadata"
   ]
  },
  {
   "cell_type": "code",
   "execution_count": 4,
   "id": "8a462320",
   "metadata": {},
   "outputs": [],
   "source": [
    "# Open dataset for each band and merge into a single dataset\n",
    "def open_and_merge_files(base, bands):\n",
    "    datasets = []\n",
    "    for band in bands:\n",
    "        data, metadata = open_file(base, band)\n",
    "        datasets.append((data, metadata))\n",
    "        \n",
    "        # Merge the datasets\n",
    "    merged_data, merged_transform = merge(datasets)\n",
    "    merged_metadata = metadata.copy()\n",
    "    merged_metadata.update({\n",
    "        'transform': merged_transform,\n",
    "        'count': len(bands)\n",
    "    })\n",
    "\n",
    "    return merged_data, merged_metadata"
   ]
  },
  {
   "cell_type": "code",
   "execution_count": 5,
   "id": "0344ef72",
   "metadata": {},
   "outputs": [],
   "source": [
    "# Define Spectral Bands mapping function\n",
    "def get_common_band_names(sat_id):\n",
    "    sr_bands_l30 = ['B02', 'B03', 'B04', 'B05', 'B06', 'B07']\n",
    "    sr_bands_s30 = ['B02', 'B03', 'B04', 'B8A', 'B11', 'B12']\n",
    "    common_bands = [\"B\", \"G\", \"R\", \"NIR\", \"SWIR1\", \"SWIR2\"]\n",
    "\n",
    "    bands_mapping = {\n",
    "        \"L30\": dict(zip(sr_bands_l30, common_bands)),\n",
    "        \"S30\": dict(zip(sr_bands_s30, common_bands))\n",
    "    }\n",
    "\n",
    "    if sat_id not in bands_mapping:\n",
    "        raise ValueError(\"Incorrect satellite id\")\n",
    "\n",
    "    return bands_mapping[sat_id]"
   ]
  },
  {
   "cell_type": "code",
   "execution_count": 6,
   "id": "e33bac0d",
   "metadata": {},
   "outputs": [
    {
     "name": "stdout",
     "output_type": "stream",
     "text": [
      "{'B02': 'B', 'B03': 'G', 'B04': 'R', 'B05': 'NIR', 'B06': 'SWIR1', 'B07': 'SWIR2'}\n"
     ]
    }
   ],
   "source": [
    "# Call the function and receive the returned dictionary\n",
    "sr_bands_common = get_common_band_names(sat_id)\n",
    "print(sr_bands_common) if sr_bands_common is not None else print(\"Incorrect satellite id\")"
   ]
  },
  {
   "cell_type": "code",
   "execution_count": 7,
   "id": "49e79c57",
   "metadata": {},
   "outputs": [
    {
     "name": "stdout",
     "output_type": "stream",
     "text": [
      "Reading s3://hls-debug-output/brad_test_samples/HLS.L30.T22JBQ.2024055T133022.v2.0/HLS.L30.T22JBQ.2024055T133022.v2.0.B.tif\n"
     ]
    },
    {
     "ename": "RasterioIOError",
     "evalue": "'/vsis3/hls-debug-output/brad_test_samples/HLS.L30.T22JBQ.2024055T133022.v2.0/HLS.L30.T22JBQ.2024055T133022.v2.0.B.tif' does not exist in the file system, and is not recognized as a supported dataset name.",
     "output_type": "error",
     "traceback": [
      "\u001b[0;31m---------------------------------------------------------------------------\u001b[0m",
      "\u001b[0;31mCPLE_OpenFailedError\u001b[0m                      Traceback (most recent call last)",
      "File \u001b[0;32mrasterio/_base.pyx:310\u001b[0m, in \u001b[0;36mrasterio._base.DatasetBase.__init__\u001b[0;34m()\u001b[0m\n",
      "File \u001b[0;32mrasterio/_base.pyx:221\u001b[0m, in \u001b[0;36mrasterio._base.open_dataset\u001b[0;34m()\u001b[0m\n",
      "File \u001b[0;32mrasterio/_err.pyx:221\u001b[0m, in \u001b[0;36mrasterio._err.exc_wrap_pointer\u001b[0;34m()\u001b[0m\n",
      "\u001b[0;31mCPLE_OpenFailedError\u001b[0m: '/vsis3/hls-debug-output/brad_test_samples/HLS.L30.T22JBQ.2024055T133022.v2.0/HLS.L30.T22JBQ.2024055T133022.v2.0.B.tif' does not exist in the file system, and is not recognized as a supported dataset name.",
      "\nDuring handling of the above exception, another exception occurred:\n",
      "\u001b[0;31mRasterioIOError\u001b[0m                           Traceback (most recent call last)",
      "Cell \u001b[0;32mIn[7], line 4\u001b[0m\n\u001b[1;32m      2\u001b[0m \u001b[38;5;28;01mif\u001b[39;00m sr_bands_common \u001b[38;5;129;01mis\u001b[39;00m \u001b[38;5;129;01mnot\u001b[39;00m \u001b[38;5;28;01mNone\u001b[39;00m:\n\u001b[1;32m      3\u001b[0m     common_bands \u001b[38;5;241m=\u001b[39m \u001b[38;5;28mlist\u001b[39m(sr_bands_common\u001b[38;5;241m.\u001b[39mvalues())\n\u001b[0;32m----> 4\u001b[0m     sr_data, sr_metadata \u001b[38;5;241m=\u001b[39m \u001b[43mopen_and_merge_files\u001b[49m\u001b[43m(\u001b[49m\u001b[43msr_key\u001b[49m\u001b[43m,\u001b[49m\u001b[43m \u001b[49m\u001b[43mcommon_bands\u001b[49m\u001b[43m)\u001b[49m\n\u001b[1;32m      5\u001b[0m     \u001b[38;5;28mprint\u001b[39m(\u001b[38;5;124m\"\u001b[39m\u001b[38;5;124mMerged dataset shape:\u001b[39m\u001b[38;5;124m\"\u001b[39m, sr_data\u001b[38;5;241m.\u001b[39mshape)\n\u001b[1;32m      6\u001b[0m \u001b[38;5;28;01melse\u001b[39;00m:\n",
      "Cell \u001b[0;32mIn[4], line 5\u001b[0m, in \u001b[0;36mopen_and_merge_files\u001b[0;34m(base, bands)\u001b[0m\n\u001b[1;32m      3\u001b[0m datasets \u001b[38;5;241m=\u001b[39m []\n\u001b[1;32m      4\u001b[0m \u001b[38;5;28;01mfor\u001b[39;00m band \u001b[38;5;129;01min\u001b[39;00m bands:\n\u001b[0;32m----> 5\u001b[0m     data, metadata \u001b[38;5;241m=\u001b[39m \u001b[43mopen_file\u001b[49m\u001b[43m(\u001b[49m\u001b[43mbase\u001b[49m\u001b[43m,\u001b[49m\u001b[43m \u001b[49m\u001b[43mband\u001b[49m\u001b[43m)\u001b[49m\n\u001b[1;32m      6\u001b[0m     datasets\u001b[38;5;241m.\u001b[39mappend((data, metadata))\n\u001b[1;32m      8\u001b[0m     \u001b[38;5;66;03m# Merge the datasets\u001b[39;00m\n",
      "Cell \u001b[0;32mIn[3], line 4\u001b[0m, in \u001b[0;36mopen_file\u001b[0;34m(base, band)\u001b[0m\n\u001b[1;32m      2\u001b[0m \u001b[38;5;28;01mdef\u001b[39;00m \u001b[38;5;21mopen_file\u001b[39m(base, band):\n\u001b[1;32m      3\u001b[0m     \u001b[38;5;28mprint\u001b[39m(\u001b[38;5;124mf\u001b[39m\u001b[38;5;124m\"\u001b[39m\u001b[38;5;124mReading \u001b[39m\u001b[38;5;132;01m{\u001b[39;00mbase\u001b[38;5;132;01m}\u001b[39;00m\u001b[38;5;124m.\u001b[39m\u001b[38;5;132;01m{\u001b[39;00mband\u001b[38;5;132;01m}\u001b[39;00m\u001b[38;5;124m.tif\u001b[39m\u001b[38;5;124m\"\u001b[39m)\n\u001b[0;32m----> 4\u001b[0m     \u001b[38;5;28;01mwith\u001b[39;00m \u001b[43mrasterio\u001b[49m\u001b[38;5;241;43m.\u001b[39;49m\u001b[43mopen\u001b[49m\u001b[43m(\u001b[49m\u001b[38;5;124;43mf\u001b[39;49m\u001b[38;5;124;43m\"\u001b[39;49m\u001b[38;5;132;43;01m{\u001b[39;49;00m\u001b[43mbase\u001b[49m\u001b[38;5;132;43;01m}\u001b[39;49;00m\u001b[38;5;124;43m.\u001b[39;49m\u001b[38;5;132;43;01m{\u001b[39;49;00m\u001b[43mband\u001b[49m\u001b[38;5;132;43;01m}\u001b[39;49;00m\u001b[38;5;124;43m.tif\u001b[39;49m\u001b[38;5;124;43m\"\u001b[39;49m\u001b[43m)\u001b[49m \u001b[38;5;28;01mas\u001b[39;00m src:\n\u001b[1;32m      5\u001b[0m         data \u001b[38;5;241m=\u001b[39m src\u001b[38;5;241m.\u001b[39mread(\u001b[38;5;241m1\u001b[39m, masked\u001b[38;5;241m=\u001b[39m\u001b[38;5;28;01mTrue\u001b[39;00m)  \u001b[38;5;66;03m# Read the raster data, masking nodata values\u001b[39;00m\n\u001b[1;32m      6\u001b[0m         metadata \u001b[38;5;241m=\u001b[39m src\u001b[38;5;241m.\u001b[39mmeta  \u001b[38;5;66;03m# Get the metadata attributes\u001b[39;00m\n",
      "File \u001b[0;32m~/anaconda3/lib/python3.10/site-packages/rasterio/env.py:451\u001b[0m, in \u001b[0;36mensure_env_with_credentials.<locals>.wrapper\u001b[0;34m(*args, **kwds)\u001b[0m\n\u001b[1;32m    448\u001b[0m     session \u001b[38;5;241m=\u001b[39m DummySession()\n\u001b[1;32m    450\u001b[0m \u001b[38;5;28;01mwith\u001b[39;00m env_ctor(session\u001b[38;5;241m=\u001b[39msession):\n\u001b[0;32m--> 451\u001b[0m     \u001b[38;5;28;01mreturn\u001b[39;00m \u001b[43mf\u001b[49m\u001b[43m(\u001b[49m\u001b[38;5;241;43m*\u001b[39;49m\u001b[43margs\u001b[49m\u001b[43m,\u001b[49m\u001b[43m \u001b[49m\u001b[38;5;241;43m*\u001b[39;49m\u001b[38;5;241;43m*\u001b[39;49m\u001b[43mkwds\u001b[49m\u001b[43m)\u001b[49m\n",
      "File \u001b[0;32m~/anaconda3/lib/python3.10/site-packages/rasterio/__init__.py:304\u001b[0m, in \u001b[0;36mopen\u001b[0;34m(fp, mode, driver, width, height, count, crs, transform, dtype, nodata, sharing, **kwargs)\u001b[0m\n\u001b[1;32m    301\u001b[0m path \u001b[38;5;241m=\u001b[39m _parse_path(raw_dataset_path)\n\u001b[1;32m    303\u001b[0m \u001b[38;5;28;01mif\u001b[39;00m mode \u001b[38;5;241m==\u001b[39m \u001b[38;5;124m\"\u001b[39m\u001b[38;5;124mr\u001b[39m\u001b[38;5;124m\"\u001b[39m:\n\u001b[0;32m--> 304\u001b[0m     dataset \u001b[38;5;241m=\u001b[39m \u001b[43mDatasetReader\u001b[49m\u001b[43m(\u001b[49m\u001b[43mpath\u001b[49m\u001b[43m,\u001b[49m\u001b[43m \u001b[49m\u001b[43mdriver\u001b[49m\u001b[38;5;241;43m=\u001b[39;49m\u001b[43mdriver\u001b[49m\u001b[43m,\u001b[49m\u001b[43m \u001b[49m\u001b[43msharing\u001b[49m\u001b[38;5;241;43m=\u001b[39;49m\u001b[43msharing\u001b[49m\u001b[43m,\u001b[49m\u001b[43m \u001b[49m\u001b[38;5;241;43m*\u001b[39;49m\u001b[38;5;241;43m*\u001b[39;49m\u001b[43mkwargs\u001b[49m\u001b[43m)\u001b[49m\n\u001b[1;32m    305\u001b[0m \u001b[38;5;28;01melif\u001b[39;00m mode \u001b[38;5;241m==\u001b[39m \u001b[38;5;124m\"\u001b[39m\u001b[38;5;124mr+\u001b[39m\u001b[38;5;124m\"\u001b[39m:\n\u001b[1;32m    306\u001b[0m     dataset \u001b[38;5;241m=\u001b[39m get_writer_for_path(path, driver\u001b[38;5;241m=\u001b[39mdriver)(\n\u001b[1;32m    307\u001b[0m         path, mode, driver\u001b[38;5;241m=\u001b[39mdriver, sharing\u001b[38;5;241m=\u001b[39msharing, \u001b[38;5;241m*\u001b[39m\u001b[38;5;241m*\u001b[39mkwargs\n\u001b[1;32m    308\u001b[0m     )\n",
      "File \u001b[0;32mrasterio/_base.pyx:312\u001b[0m, in \u001b[0;36mrasterio._base.DatasetBase.__init__\u001b[0;34m()\u001b[0m\n",
      "\u001b[0;31mRasterioIOError\u001b[0m: '/vsis3/hls-debug-output/brad_test_samples/HLS.L30.T22JBQ.2024055T133022.v2.0/HLS.L30.T22JBQ.2024055T133022.v2.0.B.tif' does not exist in the file system, and is not recognized as a supported dataset name."
     ]
    }
   ],
   "source": [
    "# Example usage\n",
    "if sr_bands_common is not None:\n",
    "    common_bands = list(sr_bands_common.values())\n",
    "    sr_data, sr_metadata = open_and_merge_files(sr_key, common_bands)\n",
    "    print(\"Merged dataset shape:\", sr_data.shape)\n",
    "else:\n",
    "    print(\"Unable to open dataset\")"
   ]
  },
  {
   "cell_type": "code",
   "execution_count": null,
   "id": "1f77aaf2",
   "metadata": {},
   "outputs": [],
   "source": []
  }
 ],
 "metadata": {
  "kernelspec": {
   "display_name": "Python 3 (ipykernel)",
   "language": "python",
   "name": "python3"
  },
  "language_info": {
   "codemirror_mode": {
    "name": "ipython",
    "version": 3
   },
   "file_extension": ".py",
   "mimetype": "text/x-python",
   "name": "python",
   "nbconvert_exporter": "python",
   "pygments_lexer": "ipython3",
   "version": "3.10.9"
  }
 },
 "nbformat": 4,
 "nbformat_minor": 5
}
