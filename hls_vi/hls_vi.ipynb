{
 "cells": [
  {
   "cell_type": "code",
   "execution_count": 1,
   "id": "08b91502",
   "metadata": {},
   "outputs": [],
   "source": [
    "import rasterio\n",
    "import numpy as np\n",
    "import datetime\n",
    "from rasterio.transform import from_origin\n",
    "import os\n",
    "from rasterio.crs import CRS"
   ]
  },
  {
   "cell_type": "code",
   "execution_count": 2,
   "id": "8de424a9",
   "metadata": {},
   "outputs": [
    {
     "data": {
      "text/plain": [
       "'\\ninputs:\\n       HLS granule id\\n\\noutputs:\\n       Normalized Difference Vegetation Index, Normalized Difference Water Index, Normalized Difference Water Index,\\n       Normalized Burn Ratio, Normalized Burn Ration 2, Enhanced Vegetation Index, Soil-Adjusted Vegetation Index,\\n       Modified Soil-Adjusted Vegetation Index, Triangular Vegetation Index \\n\\n'"
      ]
     },
     "execution_count": 2,
     "metadata": {},
     "output_type": "execute_result"
    }
   ],
   "source": [
    "\"\"\"\n",
    "inputs:\n",
    "       HLS granule id\n",
    "\n",
    "outputs:\n",
    "       Normalized Difference Vegetation Index, Normalized Difference Water Index, Normalized Difference Water Index,\n",
    "       Normalized Burn Ratio, Normalized Burn Ration 2, Enhanced Vegetation Index, Soil-Adjusted Vegetation Index,\n",
    "       Modified Soil-Adjusted Vegetation Index, Triangular Vegetation Index \n",
    "\n",
    "\"\"\""
   ]
  },
  {
   "cell_type": "code",
   "execution_count": 3,
   "id": "4a3e5bc4",
   "metadata": {},
   "outputs": [
    {
     "name": "stdout",
     "output_type": "stream",
     "text": [
      "s3://hls-debug-output/brad_test_samples/HLS.L30.T22JBQ.2024055T133022.v2.0/HLS.L30.T22JBQ.2024055T133022.v2.0\n"
     ]
    }
   ],
   "source": [
    "# Construct S3 key for accessing data within S3 bucket\n",
    "bucket = \"s3://hls-debug-output\"\n",
    "run_id = \"brad_test_samples\"\n",
    "hls_granule_id = \"HLS.L30.T22JBQ.2024055T133022.v2.0\"\n",
    "sr_key = f\"{bucket}/{run_id}/{hls_granule_id}/{hls_granule_id}\"\n",
    "sat_id = hls_granule_id.split(\".\")[1]\n",
    "\n",
    "print(sr_key)"
   ]
  },
  {
   "cell_type": "code",
   "execution_count": 4,
   "id": "771c1a5b",
   "metadata": {},
   "outputs": [],
   "source": [
    "# Returns a dictionary mapping satellite band names to common names.\n",
    "def get_common_band_names(sat_id):\n",
    "    sr_bands_l30 = [\"B02\", \"B03\", \"B04\", \"B05\", \"B06\", \"B07\"]\n",
    "    sr_bands_s30 = [\"B02\", \"B03\", \"B04\", \"B8A\", \"B11\", \"B12\"]\n",
    "    common_bands = [\"B\", \"G\", \"R\", \"NIR\", \"SWIR1\", \"SWIR2\"]\n",
    "\n",
    "    bands_mapping = {\n",
    "        \"L30\": dict(zip(sr_bands_l30, common_bands)),\n",
    "        \"S30\": dict(zip(sr_bands_s30, common_bands)),\n",
    "    }\n",
    "\n",
    "    if sat_id not in bands_mapping:\n",
    "        raise ValueError(\"Incorrect satellite id\")\n",
    "\n",
    "    return bands_mapping[sat_id]"
   ]
  },
  {
   "cell_type": "code",
   "execution_count": 5,
   "id": "8a462320",
   "metadata": {},
   "outputs": [
    {
     "name": "stdout",
     "output_type": "stream",
     "text": [
      "{'B02': 'B', 'B03': 'G', 'B04': 'R', 'B05': 'NIR', 'B06': 'SWIR1', 'B07': 'SWIR2'}\n"
     ]
    }
   ],
   "source": [
    "# Call the function and receive the returned dictionary\n",
    "sr_bands_common = get_common_band_names(sat_id)\n",
    "(\n",
    "    print(sr_bands_common)\n",
    "    if sr_bands_common is not None\n",
    "    else print(\"Incorrect satellite id\")\n",
    ")"
   ]
  },
  {
   "cell_type": "code",
   "execution_count": 6,
   "id": "309f62ed",
   "metadata": {},
   "outputs": [],
   "source": [
    "# Function to open file, read data, and extract metadata\n",
    "def open_file_and_extract_metadata(base, band, band_name):\n",
    "    print(f\"Reading {base}.{band}.tif\")\n",
    "    with rasterio.open(f\"{base}.{band}.tif\") as src:\n",
    "        data = src.read(1, masked=True)  # Read the data with masking\n",
    "        if src.nodata is not None:\n",
    "            data = np.ma.masked_equal(data, src.nodata)  # Mask the NoData values\n",
    "        scale_factor = (\n",
    "            src.scale[0] if hasattr(src, \"scale\") else 1.0\n",
    "        )  # Get the scale factor\n",
    "        offset = src.offset[0] if hasattr(src, \"offset\") else 0.0  # Get the offset\n",
    "        data = data * scale_factor + offset  # Apply scaling and offset\n",
    "        # Extract metadata attributes\n",
    "        metadata = {\n",
    "            \"ACCODE\": src.tags()[\"ACCODE\"],\n",
    "            \"cloud_coverage\": src.tags().get(\"cloud_coverage\", None),\n",
    "            \"HORIZONTAL_CS_CODE\": src.tags().get(\"HORIZONTAL_CS_CODE\", None),\n",
    "            \"MEAN_SUN_AZIMUTH_ANGLE\": src.tags().get(\"MEAN_SUN_AZIMUTH_ANGLE\", None),\n",
    "            \"MEAN_SUN_ZENITH_ANGLE\": src.tags().get(\"MEAN_SUN_ZENITH_ANGLE\", None),\n",
    "            \"MEAN_VIEW_AZIMUTH_ANGLE\": src.tags().get(\"MEAN_VIEW_AZIMUTH_ANGLE\", None),\n",
    "            \"MEAN_VIEW_ZENITH_ANGLE\": src.tags().get(\"MEAN_VIEW_ZENITH_ANGLE\", None),\n",
    "            \"NBAR_SOLAR_ZENITH\": src.tags().get(\"NBAR_SOLAR_ZENITH\", None),\n",
    "            \"SPACECRAFT_NAME\": src.tags().get(\"SPACECRAFT_NAME\", None),\n",
    "            \"TILE_ID\": src.tags().get(\"TILE_ID\", None),\n",
    "            \"spatial_coverage\": src.tags().get(\"spatial_coverage\", None),\n",
    "        }\n",
    "    return data, metadata"
   ]
  },
  {
   "cell_type": "code",
   "execution_count": 7,
   "id": "866453a4",
   "metadata": {},
   "outputs": [
    {
     "name": "stdout",
     "output_type": "stream",
     "text": [
      "Reading s3://hls-debug-output/brad_test_samples/HLS.L30.T22JBQ.2024055T133022.v2.0/HLS.L30.T22JBQ.2024055T133022.v2.0.B02.tif\n",
      "Reading s3://hls-debug-output/brad_test_samples/HLS.L30.T22JBQ.2024055T133022.v2.0/HLS.L30.T22JBQ.2024055T133022.v2.0.B03.tif\n",
      "Reading s3://hls-debug-output/brad_test_samples/HLS.L30.T22JBQ.2024055T133022.v2.0/HLS.L30.T22JBQ.2024055T133022.v2.0.B04.tif\n",
      "Reading s3://hls-debug-output/brad_test_samples/HLS.L30.T22JBQ.2024055T133022.v2.0/HLS.L30.T22JBQ.2024055T133022.v2.0.B05.tif\n",
      "Reading s3://hls-debug-output/brad_test_samples/HLS.L30.T22JBQ.2024055T133022.v2.0/HLS.L30.T22JBQ.2024055T133022.v2.0.B06.tif\n",
      "Reading s3://hls-debug-output/brad_test_samples/HLS.L30.T22JBQ.2024055T133022.v2.0/HLS.L30.T22JBQ.2024055T133022.v2.0.B07.tif\n",
      "Dataset shape: (3660, 3660, 6)\n",
      "Extracted attributes:\n",
      "ACCODE: Lasrc\n",
      "cloud_coverage: 3\n",
      "HORIZONTAL_CS_CODE: None\n",
      "MEAN_SUN_AZIMUTH_ANGLE: 67.3479155760151\n",
      "MEAN_SUN_ZENITH_ANGLE: 36.9097330530081\n",
      "MEAN_VIEW_AZIMUTH_ANGLE: 233.504519004126\n",
      "MEAN_VIEW_ZENITH_ANGLE: 3.22045946708166\n",
      "NBAR_SOLAR_ZENITH: 35.6479955786617\n",
      "SPACECRAFT_NAME: None\n",
      "TILE_ID: None\n",
      "spatial_coverage: 100\n"
     ]
    }
   ],
   "source": [
    "# Open dataset for each band and extract metadata\n",
    "if sr_bands_common is not None:\n",
    "    common_bands = list(sr_bands_common.values())\n",
    "    sr_data = []\n",
    "    metadata_list = []\n",
    "    for band, band_name in sr_bands_common.items():\n",
    "        data, metadata = open_file_and_extract_metadata(sr_key, band, band_name)\n",
    "        sr_data.append(data)\n",
    "        metadata_list.append(metadata)\n",
    "\n",
    "    # Convert the list of metadata dictionaries to a single dictionary\n",
    "    extracted_attributes = {k: v for d in metadata_list for k, v in d.items()}\n",
    "\n",
    "    # Stack the data arrays into an array\n",
    "    sr_ds = np.stack(sr_data, axis=-1)\n",
    "    print(\"Dataset shape:\", sr_ds.shape)\n",
    "\n",
    "    # Check if the extraction was successful and print the extracted attributes\n",
    "    if extracted_attributes:\n",
    "        print(\"Extracted attributes:\")\n",
    "        for key, value in extracted_attributes.items():\n",
    "            print(f\"{key}: {value}\")\n",
    "else:\n",
    "    print(\"Unable to open dataset\")"
   ]
  },
  {
   "cell_type": "code",
   "execution_count": 8,
   "id": "d128cfb3",
   "metadata": {},
   "outputs": [],
   "source": [
    "def save_raster(\n",
    "    raster_data,\n",
    "    output_path,\n",
    "    transform,\n",
    "    crs,\n",
    "    driver=\"GTiff\",\n",
    "    compress=\"deflate\",\n",
    "    tags=None,\n",
    "):\n",
    "    \"\"\"\n",
    "    Save raster data to a GeoTIFF file using rasterio.\n",
    "\n",
    "    Args:\n",
    "    - raster_data: NumPy array containing raster data.\n",
    "    - output_path: Output file path for the GeoTIFF file.\n",
    "    - transform: Affine transform object defining the transformation.\n",
    "    - crs: Coordinate reference system for the raster.\n",
    "    - driver: Output raster driver (default is GTiff).\n",
    "    - compress: Compression method (default is deflate).\n",
    "    - tags: Optional dictionary of tags to include in the GeoTIFF file.\n",
    "\n",
    "    Returns:\n",
    "    - None\n",
    "    \"\"\"\n",
    "    # Scale the raster data by 10000\n",
    "    scaled_data = (raster_data * 10000).astype(np.int16)\n",
    "\n",
    "    with rasterio.open(\n",
    "        output_path,\n",
    "        \"w\",\n",
    "        driver=driver,\n",
    "        width=scaled_data.shape[1],\n",
    "        height=scaled_data.shape[0],\n",
    "        count=1,\n",
    "        dtype=scaled_data.dtype,\n",
    "        crs=crs,\n",
    "        transform=transform,\n",
    "        compress=compress,\n",
    "    ) as dst:\n",
    "        dst.write(scaled_data, 1)\n",
    "        if tags:\n",
    "            dst.update_tags(**tags)"
   ]
  },
  {
   "cell_type": "code",
   "execution_count": 10,
   "id": "4596fddf",
   "metadata": {},
   "outputs": [],
   "source": [
    "def generate_vi_rasters(sr_ds, hls_granule_id, **extracted_attributes):\n",
    "    \"\"\"\n",
    "    Calculate and save VI rasters as separate COGs for the following spectral indices:\n",
    "    \"NDVI\", \"NDWI\", \"NDMI\", \"NBR\", \"NBR2\",\"EVI\", \"SAVI\", \"MSAVI\", \"TVI\"\n",
    "\n",
    "    params\n",
    "    :sr_ds: surface reflectance dataset containing R, B, G, NIR, SWIR1, SWIR2 bands as data variables\n",
    "    :granule_id: HLS base granule id name\n",
    "    :returns:\n",
    "    \"\"\"\n",
    "    sat_id = hls_granule_id.split(\".\")[1]\n",
    "    tile_id = hls_granule_id.split(\".\")[2]\n",
    "    acq_date = hls_granule_id.split(\".\")[3]\n",
    "\n",
    "    # HLS-VI base name\n",
    "    fname = f\"HLS_VI.{sat_id}.{tile_id}.{acq_date}.v2.0\"\n",
    "    output_dir = \"./output2/\"\n",
    "    os.makedirs(output_dir, exist_ok=True)\n",
    "\n",
    "    # Define variables for bands based on common name\n",
    "    red = sr_ds[..., 0]\n",
    "    blue = sr_ds[..., 1]\n",
    "    green = sr_ds[..., 2]\n",
    "    nir = sr_ds[..., 3]\n",
    "    swir1 = sr_ds[..., 4]\n",
    "    swir2 = sr_ds[..., 5]\n",
    "\n",
    "    # Calculate spectral indices\n",
    "    NDVI_ = (nir - red) / (nir + red)\n",
    "    NDWI_ = (green - nir) / (green + nir)\n",
    "    NDMI_ = (nir - swir1) / (nir + swir1)\n",
    "    NBR_ = (nir - swir2) / (nir + swir2)\n",
    "    NBR2_ = (swir1 - swir2) / (swir1 + swir2)\n",
    "    EVI_ = 2.5 * (nir - red) / (nir + 6 * red - 7.5 * blue + 1)\n",
    "    SAVI_ = 1.5 * (nir - red) / (nir + red + 0.5)\n",
    "    MSAVI_ = (2 * nir + 1 - np.sqrt((2 * nir + 1) ** 2 - 8 * (nir - red))) / 2\n",
    "    TVI_ = (120 * (nir - green) - 200 * (red - green)) / 2\n",
    "\n",
    "    # Define the dictionary of long names for each index\n",
    "    longname = {\n",
    "        \"NDVI\": \"Normalized Difference Vegetation Index\",\n",
    "        \"NDWI\": \"Normalized Difference Water Index\",\n",
    "        \"NDMI\": \"Normalized Difference Moisture Index\",\n",
    "        \"NBR\": \"Normalized Burn Ratio\",\n",
    "        \"NBR2\": \"Normalized Burn Ratio 2\",\n",
    "        \"EVI\": \"Enhanced Vegetation Index\",\n",
    "        \"SAVI\": \"Soil-Adjusted Vegetation Index\",\n",
    "        \"MSAVI\": \"Modified Soil-Adjusted Vegetation Index\",\n",
    "        \"TVI\": \"Triangular Vegetation Index\",\n",
    "    }\n",
    "\n",
    "    # Concatenate all long names into one string\n",
    "    longname_str = \", \".join([f\"{index}: {name}\" for index, name in longname.items()])\n",
    "\n",
    "    # Define metadata attributes\n",
    "    attributes = {\n",
    "        \"longname\": longname_str,\n",
    "        \"ACCODE\": extracted_attributes.get(\"ACCODE\", \"\"),\n",
    "        \"cloud_coverage\": extracted_attributes.get(\"cloud_coverage\", None),\n",
    "        \"HORIZONTAL_CS_CODE\": extracted_attributes.get(\"HORIZONTAL_CS_CODE\", None),\n",
    "        \"MEAN_SUN_AZIMUTH_ANGLE\": extracted_attributes.get(\n",
    "            \"MEAN_SUN_AZIMUTH_ANGLE\", None\n",
    "        ),\n",
    "        \"MEAN_SUN_ZENITH_ANGLE\": extracted_attributes.get(\n",
    "            \"MEAN_SUN_ZENITH_ANGLE\", None\n",
    "        ),\n",
    "        \"MEAN_VIEW_AZIMUTH_ANGLE\": extracted_attributes.get(\n",
    "            \"MEAN_VIEW_AZIMUTH_ANGLE\", None\n",
    "        ),\n",
    "        \"MEAN_VIEW_ZENITH_ANGLE\": extracted_attributes.get(\n",
    "            \"MEAN_VIEW_ZENITH_ANGLE\", None\n",
    "        ),\n",
    "        \"NBAR_SOLAR_ZENITH\": extracted_attributes.get(\"NBAR_SOLAR_ZENITH\", None),\n",
    "        \"SPACECRAFT_NAME\": extracted_attributes.get(\"SPACECRAFT_NAME\", None),\n",
    "        \"TILE_ID\": extracted_attributes.get(\"TILE_ID\", None),\n",
    "        \"spatial_coverage\": extracted_attributes.get(\"spatial_coverage\", None),\n",
    "        \"HLS_PROCESSING_TIME\": datetime.datetime.now().strftime(\n",
    "            \"%Y-%m-%dT%H:%M:%S.%fZ\"\n",
    "        ),\n",
    "    }\n",
    "\n",
    "    # Save rasters\n",
    "    for index_name, index_data in zip(\n",
    "        [\"NDVI\", \"NDWI\", \"NDMI\", \"NBR\", \"NBR2\", \"EVI\", \"SAVI\", \"MSAVI\", \"TVI\"],\n",
    "        [NDVI_, NDWI_, NDMI_, NBR_, NBR2_, EVI_, SAVI_, MSAVI_, TVI_],\n",
    "    ):\n",
    "        index_longname = longname.get(index_name, \"\")\n",
    "        if index_longname:\n",
    "            attributes[\"longname\"] = index_longname\n",
    "\n",
    "        # Determine the output path for the current index\n",
    "        index_output_path = output_dir + f\"{fname}.{index_name}.tif\"\n",
    "\n",
    "        # Scale and convert the data to int16 if the index is not \"TVI\"\n",
    "        if index_name != \"TVI\":\n",
    "            scale_factor = 10000\n",
    "            scaled_data = (index_data * scale_factor).astype(np.int16)\n",
    "        else:\n",
    "            scaled_data = index_data.astype(np.int16)\n",
    "\n",
    "        # Save the raster using the save_raster function\n",
    "        save_raster(\n",
    "            raster_data=scaled_data,\n",
    "            output_path=index_output_path,\n",
    "            transform=None,  # You need to define the correct transform here\n",
    "            crs=None,  # You need to define the correct CRS here\n",
    "            tags=attributes,\n",
    "        )"
   ]
  },
  {
   "cell_type": "code",
   "execution_count": 11,
   "id": "f2c41600",
   "metadata": {},
   "outputs": [
    {
     "name": "stderr",
     "output_type": "stream",
     "text": [
      "/var/folders/h2/1x3d9mnd2cz5s7d7q251djd80000gr/T/ipykernel_85494/1025945681.py:36: RuntimeWarning: invalid value encountered in sqrt\n",
      "  MSAVI_ = (2 * nir + 1 - np.sqrt((2 * nir + 1) ** 2 - 8 * (nir - red))) / 2\n",
      "/Users/brad/anaconda3/lib/python3.10/site-packages/rasterio/__init__.py:314: NotGeoreferencedWarning: Dataset has no geotransform, gcps, or rpcs. The identity matrix will be returned.\n",
      "  dataset = writer(\n"
     ]
    }
   ],
   "source": [
    "generate_vi_rasters(sr_ds, hls_granule_id, **extracted_attributes)"
   ]
  },
  {
   "cell_type": "code",
   "execution_count": null,
   "id": "6d01924d",
   "metadata": {},
   "outputs": [],
   "source": []
  }
 ],
 "metadata": {
  "kernelspec": {
   "display_name": "Python 3 (ipykernel)",
   "language": "python",
   "name": "python3"
  },
  "language_info": {
   "codemirror_mode": {
    "name": "ipython",
    "version": 3
   },
   "file_extension": ".py",
   "mimetype": "text/x-python",
   "name": "python",
   "nbconvert_exporter": "python",
   "pygments_lexer": "ipython3",
   "version": "3.10.9"
  }
 },
 "nbformat": 4,
 "nbformat_minor": 5
}
