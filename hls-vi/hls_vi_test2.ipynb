{
 "cells": [
  {
   "cell_type": "code",
   "execution_count": 1,
   "id": "08b91502",
   "metadata": {},
   "outputs": [],
   "source": [
    "import rasterio\n",
    "from rasterio.merge import merge\n",
    "from rasterio.plot import show\n",
    "import numpy as np"
   ]
  },
  {
   "cell_type": "code",
   "execution_count": 2,
   "id": "4a3e5bc4",
   "metadata": {},
   "outputs": [],
   "source": [
    "# Construct S3 key for accessing data within S3 bucket\n",
    "bucket = \"s3://hls-debug-output\"\n",
    "run_id = \"brad_test_samples\"\n",
    "hls_granule_id = \"HLS.L30.T22JBQ.2024055T133022.v2.0\"\n",
    "sr_key = f\"{bucket}/{run_id}/{hls_granule_id}/{hls_granule_id}\"\n",
    "sat_id = hls_granule_id.split(\".\")[1]"
   ]
  },
  {
   "cell_type": "code",
   "execution_count": 3,
   "id": "771c1a5b",
   "metadata": {},
   "outputs": [],
   "source": [
    "# Open raster file and apply scaling and masking\n",
    "def open_file(base, band):\n",
    "    print(f\"Reading {base}.{band}.tif\")\n",
    "    with rasterio.open(f\"{base}.{band}.tif\") as src:\n",
    "        data = src.read(1, masked=True)  # Read the raster data, masking nodata values\n",
    "        metadata = src.meta  # Get the metadata attributes\n",
    "    return data, metadata"
   ]
  },
  {
   "cell_type": "code",
   "execution_count": 4,
   "id": "8a462320",
   "metadata": {},
   "outputs": [],
   "source": [
    "# Open dataset for each band and merge into a single dataset\n",
    "def open_and_merge_files(base, bands):\n",
    "    datasets = []\n",
    "    for band in bands:\n",
    "        data, metadata = open_file(base, band)\n",
    "        datasets.append((data, metadata))\n",
    "        \n",
    "        # Merge the datasets\n",
    "    merged_data, merged_transform = merge(datasets)\n",
    "    merged_metadata = metadata.copy()\n",
    "    merged_metadata.update({\n",
    "        'transform': merged_transform,\n",
    "        'count': len(bands)\n",
    "    })\n",
    "\n",
    "    return merged_data, merged_metadata"
   ]
  },
  {
   "cell_type": "code",
   "execution_count": 5,
   "id": "0344ef72",
   "metadata": {},
   "outputs": [],
   "source": [
    "# Define Spectral Bands mapping function\n",
    "def get_common_band_names(sat_id):\n",
    "    sr_bands_l30 = ['B02', 'B03', 'B04', 'B05', 'B06', 'B07']\n",
    "    sr_bands_s30 = ['B02', 'B03', 'B04', 'B8A', 'B11', 'B12']\n",
    "    common_bands = [\"B\", \"G\", \"R\", \"NIR\", \"SWIR1\", \"SWIR2\"]\n",
    "\n",
    "    bands_mapping = {\n",
    "        \"L30\": dict(zip(sr_bands_l30, common_bands)),\n",
    "        \"S30\": dict(zip(sr_bands_s30, common_bands))\n",
    "    }\n",
    "\n",
    "    if sat_id not in bands_mapping:\n",
    "        raise ValueError(\"Incorrect satellite id\")\n",
    "\n",
    "    return bands_mapping[sat_id]"
   ]
  },
  {
   "cell_type": "code",
   "execution_count": 6,
   "id": "e33bac0d",
   "metadata": {},
   "outputs": [
    {
     "name": "stdout",
     "output_type": "stream",
     "text": [
      "{'B02': 'B', 'B03': 'G', 'B04': 'R', 'B05': 'NIR', 'B06': 'SWIR1', 'B07': 'SWIR2'}\n"
     ]
    }
   ],
   "source": [
    "# Call the function and receive the returned dictionary\n",
    "sr_bands_common = get_common_band_names(sat_id)\n",
    "print(sr_bands_common) if sr_bands_common is not None else print(\"Incorrect satellite id\")"
   ]
  },
  {
   "cell_type": "code",
   "execution_count": 7,
   "id": "49e79c57",
   "metadata": {},
   "outputs": [
    {
     "name": "stdout",
     "output_type": "stream",
     "text": [
      "Reading s3://hls-debug-output/brad_test_samples/HLS.L30.T22JBQ.2024055T133022.v2.0/HLS.L30.T22JBQ.2024055T133022.v2.0.B02.tif\n",
      "Reading s3://hls-debug-output/brad_test_samples/HLS.L30.T22JBQ.2024055T133022.v2.0/HLS.L30.T22JBQ.2024055T133022.v2.0.B03.tif\n",
      "Reading s3://hls-debug-output/brad_test_samples/HLS.L30.T22JBQ.2024055T133022.v2.0/HLS.L30.T22JBQ.2024055T133022.v2.0.B04.tif\n",
      "Reading s3://hls-debug-output/brad_test_samples/HLS.L30.T22JBQ.2024055T133022.v2.0/HLS.L30.T22JBQ.2024055T133022.v2.0.B05.tif\n",
      "Reading s3://hls-debug-output/brad_test_samples/HLS.L30.T22JBQ.2024055T133022.v2.0/HLS.L30.T22JBQ.2024055T133022.v2.0.B06.tif\n",
      "Reading s3://hls-debug-output/brad_test_samples/HLS.L30.T22JBQ.2024055T133022.v2.0/HLS.L30.T22JBQ.2024055T133022.v2.0.B07.tif\n"
     ]
    },
    {
     "ename": "AttributeError",
     "evalue": "'tuple' object has no attribute 'profile'",
     "output_type": "error",
     "traceback": [
      "\u001b[0;31m---------------------------------------------------------------------------\u001b[0m",
      "\u001b[0;31mAttributeError\u001b[0m                            Traceback (most recent call last)",
      "\u001b[0;32m/var/folders/nb/zbf9tcqj0194rts9b7nc7sqm0000gp/T/ipykernel_8614/1937642680.py\u001b[0m in \u001b[0;36m<cell line: 2>\u001b[0;34m()\u001b[0m\n\u001b[1;32m      2\u001b[0m \u001b[0;32mif\u001b[0m \u001b[0msr_bands_common\u001b[0m \u001b[0;32mis\u001b[0m \u001b[0;32mnot\u001b[0m \u001b[0;32mNone\u001b[0m\u001b[0;34m:\u001b[0m\u001b[0;34m\u001b[0m\u001b[0;34m\u001b[0m\u001b[0m\n\u001b[1;32m      3\u001b[0m     \u001b[0mcommon_bands\u001b[0m \u001b[0;34m=\u001b[0m \u001b[0mlist\u001b[0m\u001b[0;34m(\u001b[0m\u001b[0msr_bands_common\u001b[0m\u001b[0;34m.\u001b[0m\u001b[0mkeys\u001b[0m\u001b[0;34m(\u001b[0m\u001b[0;34m)\u001b[0m\u001b[0;34m)\u001b[0m\u001b[0;34m\u001b[0m\u001b[0;34m\u001b[0m\u001b[0m\n\u001b[0;32m----> 4\u001b[0;31m     \u001b[0msr_data\u001b[0m\u001b[0;34m,\u001b[0m \u001b[0msr_metadata\u001b[0m \u001b[0;34m=\u001b[0m \u001b[0mopen_and_merge_files\u001b[0m\u001b[0;34m(\u001b[0m\u001b[0msr_key\u001b[0m\u001b[0;34m,\u001b[0m \u001b[0mcommon_bands\u001b[0m\u001b[0;34m)\u001b[0m\u001b[0;34m\u001b[0m\u001b[0;34m\u001b[0m\u001b[0m\n\u001b[0m\u001b[1;32m      5\u001b[0m     \u001b[0mprint\u001b[0m\u001b[0;34m(\u001b[0m\u001b[0;34m\"Merged dataset shape:\"\u001b[0m\u001b[0;34m,\u001b[0m \u001b[0msr_data\u001b[0m\u001b[0;34m.\u001b[0m\u001b[0mshape\u001b[0m\u001b[0;34m)\u001b[0m\u001b[0;34m\u001b[0m\u001b[0;34m\u001b[0m\u001b[0m\n\u001b[1;32m      6\u001b[0m \u001b[0;32melse\u001b[0m\u001b[0;34m:\u001b[0m\u001b[0;34m\u001b[0m\u001b[0;34m\u001b[0m\u001b[0m\n",
      "\u001b[0;32m/var/folders/nb/zbf9tcqj0194rts9b7nc7sqm0000gp/T/ipykernel_8614/1020859804.py\u001b[0m in \u001b[0;36mopen_and_merge_files\u001b[0;34m(base, bands)\u001b[0m\n\u001b[1;32m      7\u001b[0m \u001b[0;34m\u001b[0m\u001b[0m\n\u001b[1;32m      8\u001b[0m         \u001b[0;31m# Merge the datasets\u001b[0m\u001b[0;34m\u001b[0m\u001b[0;34m\u001b[0m\u001b[0m\n\u001b[0;32m----> 9\u001b[0;31m     \u001b[0mmerged_data\u001b[0m\u001b[0;34m,\u001b[0m \u001b[0mmerged_transform\u001b[0m \u001b[0;34m=\u001b[0m \u001b[0mmerge\u001b[0m\u001b[0;34m(\u001b[0m\u001b[0mdatasets\u001b[0m\u001b[0;34m)\u001b[0m\u001b[0;34m\u001b[0m\u001b[0;34m\u001b[0m\u001b[0m\n\u001b[0m\u001b[1;32m     10\u001b[0m     \u001b[0mmerged_metadata\u001b[0m \u001b[0;34m=\u001b[0m \u001b[0mmetadata\u001b[0m\u001b[0;34m.\u001b[0m\u001b[0mcopy\u001b[0m\u001b[0;34m(\u001b[0m\u001b[0;34m)\u001b[0m\u001b[0;34m\u001b[0m\u001b[0;34m\u001b[0m\u001b[0m\n\u001b[1;32m     11\u001b[0m     merged_metadata.update({\n",
      "\u001b[0;32m/usr/local/lib/python3.10/site-packages/rasterio/merge.py\u001b[0m in \u001b[0;36mmerge\u001b[0;34m(datasets, bounds, res, nodata, dtype, precision, indexes, output_count, resampling, method, target_aligned_pixels, dst_path, dst_kwds)\u001b[0m\n\u001b[1;32m    223\u001b[0m \u001b[0;34m\u001b[0m\u001b[0m\n\u001b[1;32m    224\u001b[0m     \u001b[0;32mwith\u001b[0m \u001b[0mdataset_opener\u001b[0m\u001b[0;34m(\u001b[0m\u001b[0mdatasets\u001b[0m\u001b[0;34m[\u001b[0m\u001b[0;36m0\u001b[0m\u001b[0;34m]\u001b[0m\u001b[0;34m)\u001b[0m \u001b[0;32mas\u001b[0m \u001b[0mfirst\u001b[0m\u001b[0;34m:\u001b[0m\u001b[0;34m\u001b[0m\u001b[0;34m\u001b[0m\u001b[0m\n\u001b[0;32m--> 225\u001b[0;31m         \u001b[0mfirst_profile\u001b[0m \u001b[0;34m=\u001b[0m \u001b[0mfirst\u001b[0m\u001b[0;34m.\u001b[0m\u001b[0mprofile\u001b[0m\u001b[0;34m\u001b[0m\u001b[0;34m\u001b[0m\u001b[0m\n\u001b[0m\u001b[1;32m    226\u001b[0m         \u001b[0mfirst_res\u001b[0m \u001b[0;34m=\u001b[0m \u001b[0mfirst\u001b[0m\u001b[0;34m.\u001b[0m\u001b[0mres\u001b[0m\u001b[0;34m\u001b[0m\u001b[0;34m\u001b[0m\u001b[0m\n\u001b[1;32m    227\u001b[0m         \u001b[0mnodataval\u001b[0m \u001b[0;34m=\u001b[0m \u001b[0mfirst\u001b[0m\u001b[0;34m.\u001b[0m\u001b[0mnodatavals\u001b[0m\u001b[0;34m[\u001b[0m\u001b[0;36m0\u001b[0m\u001b[0;34m]\u001b[0m\u001b[0;34m\u001b[0m\u001b[0;34m\u001b[0m\u001b[0m\n",
      "\u001b[0;31mAttributeError\u001b[0m: 'tuple' object has no attribute 'profile'"
     ]
    }
   ],
   "source": [
    "# Example usage\n",
    "if sr_bands_common is not None:\n",
    "    common_bands = list(sr_bands_common.keys())\n",
    "    sr_data, sr_metadata = open_and_merge_files(sr_key, common_bands)\n",
    "    print(\"Merged dataset shape:\", sr_data.shape)\n",
    "else:\n",
    "    print(\"Unable to open dataset\")"
   ]
  },
  {
   "cell_type": "code",
   "execution_count": null,
   "id": "1f77aaf2",
   "metadata": {},
   "outputs": [],
   "source": []
  }
 ],
 "metadata": {
  "kernelspec": {
   "display_name": "Python 3 (ipykernel)",
   "language": "python",
   "name": "python3"
  },
  "language_info": {
   "codemirror_mode": {
    "name": "ipython",
    "version": 3
   },
   "file_extension": ".py",
   "mimetype": "text/x-python",
   "name": "python",
   "nbconvert_exporter": "python",
   "pygments_lexer": "ipython3",
   "version": "3.10.13"
  }
 },
 "nbformat": 4,
 "nbformat_minor": 5
}
