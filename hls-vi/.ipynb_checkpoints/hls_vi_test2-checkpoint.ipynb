{
 "cells": [
  {
   "cell_type": "code",
   "execution_count": 1,
   "id": "08b91502",
   "metadata": {},
   "outputs": [],
   "source": [
    "import rasterio\n",
    "from rasterio.merge import merge\n",
    "from rasterio.plot import show\n",
    "import numpy as np"
   ]
  },
  {
   "cell_type": "code",
   "execution_count": 2,
   "id": "4a3e5bc4",
   "metadata": {},
   "outputs": [],
   "source": [
    "# Construct S3 key for accessing data within S3 bucket\n",
    "bucket = \"s3://hls-debug-output\"\n",
    "run_id = \"brad_test_samples\"\n",
    "hls_granule_id = \"HLS.L30.T22JBQ.2024055T133022.v2.0\"\n",
    "sr_key = f\"{bucket}/{run_id}/{hls_granule_id}/{hls_granule_id}\"\n",
    "sat_id = hls_granule_id.split(\".\")[1]"
   ]
  },
  {
   "cell_type": "code",
   "execution_count": 3,
   "id": "771c1a5b",
   "metadata": {},
   "outputs": [],
   "source": [
    "# Open raster file and apply scaling and masking\n",
    "def open_file(base, band):\n",
    "    print(f\"Reading {base}.{band}.tif\")\n",
    "    with rasterio.open(f\"{base}.{band}.tif\") as src:\n",
    "        data = src.read(1, masked=True)  # Read the raster data, masking nodata values\n",
    "        metadata = src.meta  # Get the metadata attributes\n",
    "    return data, metadata"
   ]
  },
  {
   "cell_type": "code",
   "execution_count": 4,
   "id": "8a462320",
   "metadata": {},
   "outputs": [],
   "source": [
    "# Open dataset for each band and merge into a single dataset\n",
    "def open_and_merge_files(base, bands):\n",
    "    datasets = []\n",
    "    for band in bands:\n",
    "        data, metadata = open_file(base, band)\n",
    "        datasets.append((data, metadata))\n",
    "        \n",
    "        # Merge the datasets\n",
    "    merged_data, merged_transform = merge(datasets)\n",
    "    merged_metadata = metadata.copy()\n",
    "    merged_metadata.update({\n",
    "        'transform': merged_transform,\n",
    "        'count': len(bands)\n",
    "    })\n",
    "\n",
    "    return merged_data, merged_metadata"
   ]
  },
  {
   "cell_type": "code",
   "execution_count": 5,
   "id": "0344ef72",
   "metadata": {},
   "outputs": [],
   "source": [
    "# Define Spectral Bands mapping function\n",
    "def get_common_band_names(sat_id):\n",
    "    sr_bands_l30 = ['B02', 'B03', 'B04', 'B05', 'B06', 'B07']\n",
    "    sr_bands_s30 = ['B02', 'B03', 'B04', 'B8A', 'B11', 'B12']\n",
    "    common_bands = [\"B\", \"G\", \"R\", \"NIR\", \"SWIR1\", \"SWIR2\"]\n",
    "\n",
    "    bands_mapping = {\n",
    "        \"L30\": dict(zip(sr_bands_l30, common_bands)),\n",
    "        \"S30\": dict(zip(sr_bands_s30, common_bands))\n",
    "    }\n",
    "\n",
    "    if sat_id not in bands_mapping:\n",
    "        raise ValueError(\"Incorrect satellite id\")\n",
    "\n",
    "    return bands_mapping[sat_id]"
   ]
  },
  {
   "cell_type": "code",
   "execution_count": 6,
   "id": "e33bac0d",
   "metadata": {},
   "outputs": [
    {
     "name": "stdout",
     "output_type": "stream",
     "text": [
      "{'B02': 'B', 'B03': 'G', 'B04': 'R', 'B05': 'NIR', 'B06': 'SWIR1', 'B07': 'SWIR2'}\n"
     ]
    }
   ],
   "source": [
    "# Call the function and receive the returned dictionary\n",
    "sr_bands_common = get_common_band_names(sat_id)\n",
    "print(sr_bands_common) if sr_bands_common is not None else print(\"Incorrect satellite id\")"
   ]
  },
  {
   "cell_type": "code",
   "execution_count": null,
   "id": "49e79c57",
   "metadata": {},
   "outputs": [
    {
     "name": "stdout",
     "output_type": "stream",
     "text": [
      "Reading s3://hls-debug-output/brad_test_samples/HLS.L30.T22JBQ.2024055T133022.v2.0/HLS.L30.T22JBQ.2024055T133022.v2.0.B02.tif\n",
      "Reading s3://hls-debug-output/brad_test_samples/HLS.L30.T22JBQ.2024055T133022.v2.0/HLS.L30.T22JBQ.2024055T133022.v2.0.B03.tif\n",
      "Reading s3://hls-debug-output/brad_test_samples/HLS.L30.T22JBQ.2024055T133022.v2.0/HLS.L30.T22JBQ.2024055T133022.v2.0.B04.tif\n",
      "Reading s3://hls-debug-output/brad_test_samples/HLS.L30.T22JBQ.2024055T133022.v2.0/HLS.L30.T22JBQ.2024055T133022.v2.0.B05.tif\n"
     ]
    }
   ],
   "source": [
    "# Example usage\n",
    "if sr_bands_common is not None:\n",
    "    common_bands = list(sr_bands_common.keys())\n",
    "    sr_data, sr_metadata = open_and_merge_files(sr_key, common_bands)\n",
    "    print(\"Merged dataset shape:\", sr_data.shape)\n",
    "else:\n",
    "    print(\"Unable to open dataset\")"
   ]
  },
  {
   "cell_type": "code",
   "execution_count": null,
   "id": "1f77aaf2",
   "metadata": {},
   "outputs": [],
   "source": []
  }
 ],
 "metadata": {
  "kernelspec": {
   "display_name": "Python 3 (ipykernel)",
   "language": "python",
   "name": "python3"
  },
  "language_info": {
   "codemirror_mode": {
    "name": "ipython",
    "version": 3
   },
   "file_extension": ".py",
   "mimetype": "text/x-python",
   "name": "python",
   "nbconvert_exporter": "python",
   "pygments_lexer": "ipython3",
   "version": "3.10.13"
  }
 },
 "nbformat": 4,
 "nbformat_minor": 5
}
